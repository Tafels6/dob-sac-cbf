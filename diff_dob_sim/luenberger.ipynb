{
 "cells": [
  {
   "cell_type": "code",
   "execution_count": null,
   "metadata": {},
   "outputs": [],
   "source": [
    "import numpy as np\n",
    "import matplotlib.pyplot as plt"
   ]
  },
  {
   "cell_type": "code",
   "execution_count": null,
   "metadata": {},
   "outputs": [],
   "source": [
    "def simulate_nonlinear_system(x, u, disturbance):\n",
    "    \"\"\"Simulate a nonlinear system with disturbance.\n",
    "    Args:\n",
    "        x: Current state of the system.\n",
    "        u: Control input.\n",
    "        disturbance: Random disturbance added to the system.\n",
    "    Returns:\n",
    "        ndarray: Derivative of the system state.\n",
    "    \"\"\"\n",
    "    dx1 = x[1]\n",
    "    dx2 = -x[0] + u + disturbance  # Add disturbance to introduce randomness\n",
    "    return np.array([dx1, dx2])"
   ]
  },
  {
   "cell_type": "code",
   "execution_count": null,
   "metadata": {},
   "outputs": [],
   "source": [
    "def luenberger_observer(x_hat, u, y, A, C, L):\n",
    "    \"\"\"Simulate a Luenberger observer for state estimation.\n",
    "    Args:\n",
    "        x_hat: Estimated state.\n",
    "        u: Control input.\n",
    "        y: Measurement output.\n",
    "        A: System matrix.\n",
    "        C: Output matrix.\n",
    "        L: Observer gain matrix.\n",
    "    Returns:\n",
    "        ndarray: Derivative of the estimated state.\n",
    "    \"\"\"\n",
    "    x_hat_dot = A.dot(x_hat) + L.dot(y - C.dot(x_hat)).T.ravel() + B * u\n",
    "    return x_hat_dot"
   ]
  },
  {
   "cell_type": "code",
   "execution_count": null,
   "metadata": {},
   "outputs": [],
   "source": [
    "# Simulation parameters\n",
    "t_max = 50.0\n",
    "dt = 0.01\n",
    "u = 1  # Control input\n",
    "time = np.arange(0, t_max, dt)\n",
    "x_true = np.zeros((len(time), 2))\n",
    "x_hat = np.zeros((len(time), 2))\n",
    "\n",
    "# Initial states\n",
    "x_true[0] = np.array([1.0, 0.0])\n",
    "x_hat[0] = np.array([0.9, 0.0])\n",
    "\n",
    "# Luenberger observer parameters\n",
    "A = np.array([[0, 1], [-1, 0]])\n",
    "B = np.array([0, 1])\n",
    "C = np.array([1, 0])\n",
    "L = np.array([[0.5], [0.5]])  # Gain matrix for the observer\n",
    "\n",
    "# Run simulation\n",
    "for i in range(1, len(time)):\n",
    "    disturbance = np.random.normal(0, 0.01)\n",
    "    x_true[i] = x_true[i-1] + simulate_nonlinear_system(x_true[i-1], u, disturbance) * dt\n",
    "\n",
    "    # State estimation using Luenberger observer\n",
    "    y = C.dot(x_true[i])  # Measurement\n",
    "    x_hat_dot = luenberger_observer(x_hat[i-1], u, y, A, C, L)\n",
    "    x_hat[i] = x_hat[i-1] + x_hat_dot * dt\n",
    "\n",
    "# Plotting\n",
    "plt.figure()\n",
    "plt.subplot(2, 1, 1)\n",
    "plt.plot(time, x_true[:, 0], label='True State (x1)')\n",
    "plt.xlabel('Time')\n",
    "plt.ylabel('State')\n",
    "plt.legend()\n",
    "\n",
    "plt.subplot(2, 1, 2)\n",
    "plt.plot(time, x_true[:, 0], label='True State (x1)')\n",
    "plt.plot(time, x_hat[:, 0], label='Estimated State (x1)')\n",
    "plt.xlabel('Time')\n",
    "plt.ylabel('State')\n",
    "plt.legend()\n",
    "plt.savefig('x1.pdf', format='pdf')\n",
    "plt.close()\n",
    "\n",
    "plt.figure()\n",
    "plt.subplot(2, 1, 1)\n",
    "plt.plot(time, x_true[:, 1], label='True State (x2)')\n",
    "plt.legend()\n",
    "\n",
    "plt.subplot(2, 1, 2)\n",
    "plt.plot(time, x_true[:, 1], label='True State (x2)')\n",
    "plt.plot(time, x_hat[:, 1], label='Estimated State (x2)')\n",
    "plt.xlabel('Time')\n",
    "plt.ylabel('State')\n",
    "plt.legend()\n",
    "plt.show()\n",
    "plt.close()"
   ]
  }
 ],
 "metadata": {
  "language_info": {
   "name": "python"
  }
 },
 "nbformat": 4,
 "nbformat_minor": 2
}
