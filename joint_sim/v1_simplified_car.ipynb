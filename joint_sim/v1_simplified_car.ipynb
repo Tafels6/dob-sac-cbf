{
 "cells": [
  {
   "cell_type": "code",
   "execution_count": 1,
   "metadata": {},
   "outputs": [],
   "source": [
    "import gymnasium as gym\n",
    "import numpy as np\n",
    "import matplotlib.pyplot as plt\n",
    "from matplotlib.patches import Circle\n",
    "import csv"
   ]
  },
  {
   "cell_type": "code",
   "execution_count": 2,
   "metadata": {},
   "outputs": [],
   "source": [
    "from sac.sac_torch_new import Agent\n",
    "from env.unicycle_2d_with_obs import Unicycle2DWithObstacle\n",
    "from cbf.cbf_simplified_car import cbf_casadi\n",
    "\n",
    "env = Unicycle2DWithObstacle()"
   ]
  },
  {
   "cell_type": "code",
   "execution_count": 3,
   "metadata": {},
   "outputs": [],
   "source": [
    "def save_trajectory(exp,episode,obs_history,env,info):\n",
    "    \n",
    "    x_coords = [obs[0] for obs in obs_history]\n",
    "    y_coords = [obs[1] for obs in obs_history]\n",
    "\n",
    "    fig = plt.figure()\n",
    "    plt.plot(x_coords, y_coords, marker='o', markersize=2, linestyle='-')\n",
    "    plt.plot(x_coords, y_coords, linestyle='-')\n",
    "    plt.xlabel('X Coordinate')\n",
    "    plt.ylabel('Y Coordinate')\n",
    "    plt.title(f'Car Trajectory - Episode {episode}')\n",
    "    plt.grid()\n",
    "\n",
    "    for obstacle in env.obstacles:\n",
    "        x, y, radius = obstacle\n",
    "        circle = Circle((x, y), radius, fill=False, color='red')\n",
    "        plt.gca().add_patch(circle)\n",
    "\n",
    "    plt.gca().set_aspect('equal', adjustable='box')\n",
    "    plt.savefig(f'tmp/plot/exp_{exp}_epi_{episode}_{info}.png')\n",
    "    plt.close()"
   ]
  },
  {
   "cell_type": "code",
   "execution_count": null,
   "metadata": {},
   "outputs": [],
   "source": [
    "n_games = 1000\n",
    "exp_repeat_times = 10\n",
    "total_score_history = []\n",
    "for j in range(exp_repeat_times):\n",
    "    print('experiment',j,'start')\n",
    "    agent = Agent(input_dims=env.observation_space.shape, env=env,\n",
    "        n_actions=env.action_space.shape[0])\n",
    "    best_score = env.reward_range[0]\n",
    "    goal_reached_num = 0\n",
    "\n",
    "    for i in range(n_games):\n",
    "        global_step = 0\n",
    "        score_history = []\n",
    "        observation_history = []\n",
    "        info = {}\n",
    "        observation,_ = env.reset()\n",
    "        done = False\n",
    "        score = 0\n",
    "        step = 0\n",
    "        while not done and step < 500:\n",
    "            observation_history.append(np.array(observation))\n",
    "            action_rl = agent.choose_action(observation)\n",
    "            # print('after choose action: ',action)\n",
    "            action = cbf_casadi(env,observation,action_rl)\n",
    "\n",
    "            observation_, reward, done,_, info = env.step(action)\n",
    "            score += reward\n",
    "            agent.remember(observation, action, reward, observation_, done)\n",
    "            agent.learn(i, step, global_step, None, save_runs = False)\n",
    "            observation = observation_\n",
    "            step += 1\n",
    "            global_step += 1\n",
    "        score_history.append(score)\n",
    "\n",
    "        np.set_printoptions(formatter={'float': '{:0.2f}'.format})\n",
    "        print('episode', i, ', after', step, 'steps: ', info, ', last position: ', observation[:2], ', with total reward: ', np.array([score]))\n",
    "\n",
    "        if info == {'goal_reached'}:\n",
    "            goal_reached_num += 1\n",
    "            save_trajectory(j,i,observation_history,env,info)\n",
    "        if goal_reached_num >= 150:\n",
    "            break\n",
    "    \n",
    "    total_score_history.append(score_history)\n",
    "\n",
    "csv_file_path = \"simplified_car_score_history.csv\"\n",
    "\n",
    "with open(csv_file_path, mode='w', newline='') as file:\n",
    "    writer = csv.writer(file)\n",
    "    writer.writerows(total_score_history)"
   ]
  },
  {
   "cell_type": "code",
   "execution_count": null,
   "metadata": {},
   "outputs": [],
   "source": [
    "plt.plot(score_history, label='Score')\n",
    "\n",
    "window = 20\n",
    "moving_avg = np.convolve(score_history, np.ones(window)/window, mode='valid')\n",
    "\n",
    "offset = (len(score_history) - len(moving_avg)) // 2\n",
    "\n",
    "plt.plot(range(offset, offset + len(moving_avg)), moving_avg, color='red', label='Moving Average')\n",
    "plt.xlabel(\"Episode\")\n",
    "plt.ylabel(\"Score\")\n",
    "plt.title(\"car_13_4_1xObstacle\")\n",
    "plt.grid(True)\n",
    "plt.legend()\n",
    "# plt.savefig(\"car_13_4_1xObstacle`\")\n",
    "plt.show()\n"
   ]
  },
  {
   "cell_type": "code",
   "execution_count": null,
   "metadata": {},
   "outputs": [],
   "source": [
    "agent.save_models()"
   ]
  },
  {
   "cell_type": "code",
   "execution_count": null,
   "metadata": {},
   "outputs": [],
   "source": [
    "agent.load_models()"
   ]
  }
 ],
 "metadata": {
  "kernelspec": {
   "display_name": "Python 3",
   "language": "python",
   "name": "python3"
  },
  "language_info": {
   "codemirror_mode": {
    "name": "ipython",
    "version": 3
   },
   "file_extension": ".py",
   "mimetype": "text/x-python",
   "name": "python",
   "nbconvert_exporter": "python",
   "pygments_lexer": "ipython3",
   "version": "3.11.5"
  }
 },
 "nbformat": 4,
 "nbformat_minor": 2
}
